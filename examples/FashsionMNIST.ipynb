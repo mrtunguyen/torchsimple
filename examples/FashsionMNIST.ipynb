{
 "cells": [
  {
   "cell_type": "code",
   "execution_count": 1,
   "metadata": {
    "ExecuteTime": {
     "end_time": "2019-10-28T17:02:25.096704Z",
     "start_time": "2019-10-28T17:02:25.094841Z"
    }
   },
   "outputs": [],
   "source": [
    "import sys\n",
    "sys.path.append('/home/ubuntu/datalab/github/')"
   ]
  },
  {
   "cell_type": "code",
   "execution_count": 2,
   "metadata": {
    "ExecuteTime": {
     "end_time": "2019-10-28T17:02:26.134502Z",
     "start_time": "2019-10-28T17:02:25.099737Z"
    }
   },
   "outputs": [],
   "source": [
    "from torchsimple import *"
   ]
  },
  {
   "cell_type": "code",
   "execution_count": 54,
   "metadata": {
    "ExecuteTime": {
     "end_time": "2019-10-28T18:06:59.500072Z",
     "start_time": "2019-10-28T18:06:59.494364Z"
    }
   },
   "outputs": [],
   "source": [
    "class MnistDataset(Dataset):\n",
    "    def __init__(self, dataset):\n",
    "        self.dataset = dataset\n",
    "        \n",
    "    def __len__(self):\n",
    "        return len(self.dataset)\n",
    "    \n",
    "    def __getitem__(self, index):\n",
    "        res = {}\n",
    "        res['inputs'] = self.dataset[index][0]\n",
    "        res['targets'] = self.dataset[index][1]\n",
    "        return res"
   ]
  },
  {
   "cell_type": "code",
   "execution_count": 55,
   "metadata": {
    "ExecuteTime": {
     "end_time": "2019-10-28T18:06:59.673401Z",
     "start_time": "2019-10-28T18:06:59.614739Z"
    }
   },
   "outputs": [],
   "source": [
    "# transform to normalize the data\n",
    "transform = transforms.Compose([transforms.ToTensor(),\n",
    "                                transforms.Normalize((0.5,), (0.5,))])\n",
    "\n",
    "# Download and load the training data\n",
    "trainset = datasets.FashionMNIST('./data', download=False, train=True, transform=transform)\n",
    "trainset = MnistDataset(trainset)\n",
    "train_loader = DataLoader(trainset, batch_size=64, shuffle=True, drop_last=True)\n",
    "\n",
    "# Download and load the test data\n",
    "validationset = datasets.FashionMNIST('./data', download=False, train=False, transform=transform)\n",
    "validationset = MnistDataset(validationset)\n",
    "val_loader = DataLoader(validationset, batch_size=64, shuffle=True, drop_last=True)"
   ]
  },
  {
   "cell_type": "markdown",
   "metadata": {},
   "source": [
    "## Load data"
   ]
  },
  {
   "cell_type": "code",
   "execution_count": 56,
   "metadata": {
    "ExecuteTime": {
     "end_time": "2019-10-28T18:07:00.113765Z",
     "start_time": "2019-10-28T18:07:00.108235Z"
    }
   },
   "outputs": [],
   "source": [
    "dataowner =  DataOwner(train_loader, trainset, val_loader, validationset, None, None)"
   ]
  },
  {
   "cell_type": "markdown",
   "metadata": {},
   "source": [
    "## Models"
   ]
  },
  {
   "cell_type": "code",
   "execution_count": 57,
   "metadata": {
    "ExecuteTime": {
     "end_time": "2019-10-28T18:07:00.834569Z",
     "start_time": "2019-10-28T18:07:00.825153Z"
    }
   },
   "outputs": [],
   "source": [
    "class CNN(nn.Module):\n",
    "    \n",
    "    def __init__(self):\n",
    "        super(CNN, self).__init__()\n",
    "        \n",
    "        self.convlayer1 = nn.Sequential(\n",
    "            nn.Conv2d(1, 32, 3,padding=1),\n",
    "            nn.BatchNorm2d(32),\n",
    "            nn.ReLU(),\n",
    "            nn.MaxPool2d(kernel_size=2, stride=2)\n",
    "        )\n",
    "        \n",
    "        self.convlayer2 = nn.Sequential(\n",
    "            nn.Conv2d(32,64,3),\n",
    "            nn.BatchNorm2d(64),\n",
    "            nn.ReLU(),\n",
    "            nn.MaxPool2d(2)\n",
    "        )\n",
    "        \n",
    "        self.fc1 = nn.Linear(64*6*6,600)\n",
    "        self.drop = nn.Dropout2d(0.25)\n",
    "        self.fc2 = nn.Linear(600, 120)\n",
    "        self.fc3 = nn.Linear(120, 10)\n",
    "        \n",
    "    def forward(self, x):\n",
    "        x = self.convlayer1(x)\n",
    "        x = self.convlayer2(x)\n",
    "        x = x.view(-1,64*6*6)\n",
    "        x = self.fc1(x)\n",
    "        x = self.drop(x)\n",
    "        x = self.fc2(x)\n",
    "        x = self.fc3(x)\n",
    "        \n",
    "        return F.log_softmax(x,dim=1)"
   ]
  },
  {
   "cell_type": "code",
   "execution_count": 58,
   "metadata": {
    "ExecuteTime": {
     "end_time": "2019-10-28T18:07:00.969742Z",
     "start_time": "2019-10-28T18:07:00.951989Z"
    }
   },
   "outputs": [],
   "source": [
    "model = CNN()"
   ]
  },
  {
   "cell_type": "markdown",
   "metadata": {},
   "source": [
    "## Criterion"
   ]
  },
  {
   "cell_type": "code",
   "execution_count": 59,
   "metadata": {
    "ExecuteTime": {
     "end_time": "2019-10-28T18:07:01.853156Z",
     "start_time": "2019-10-28T18:07:01.848812Z"
    }
   },
   "outputs": [],
   "source": [
    "criterion = nn.NLLLoss()"
   ]
  },
  {
   "cell_type": "code",
   "execution_count": 60,
   "metadata": {
    "ExecuteTime": {
     "end_time": "2019-10-28T18:07:03.596611Z",
     "start_time": "2019-10-28T18:07:03.591177Z"
    }
   },
   "outputs": [],
   "source": [
    "def step_fn(state):\n",
    "    \"\"\"Determine what your model will do with your data.\n",
    "\n",
    "    Args:\n",
    "        model: the pytorch module to pass input in\n",
    "        batch: the batch of data from the DataLoader\n",
    "\n",
    "    Returns:\n",
    "        The models forward pass results\n",
    "    \"\"\"\n",
    "    model, batch = state.model, state.batch\n",
    "    input = batch[\"inputs\"]\n",
    "    if state.use_fp16:\n",
    "        input = input.half()\n",
    "    out = model(input)\n",
    "    if isinstance(out, torch.Tensor):\n",
    "        out = out.float()\n",
    "    return out"
   ]
  },
  {
   "cell_type": "markdown",
   "metadata": {},
   "source": [
    "## Callback"
   ]
  },
  {
   "cell_type": "code",
   "execution_count": 61,
   "metadata": {
    "ExecuteTime": {
     "end_time": "2019-10-28T18:07:04.416147Z",
     "start_time": "2019-10-28T18:07:04.409990Z"
    }
   },
   "outputs": [],
   "source": [
    "class DefaultLossCallback(Callback):\n",
    "    \"\"\"\n",
    "    A callback to calculate loss by default.\n",
    "    If a loss is not precised during fit of training, this callback will be \n",
    "    used for the loss of model.\n",
    "    \"\"\"\n",
    "    def __init__(self, target_key: str, preds_key: str) -> None:\n",
    "        self.target_key = target_key\n",
    "        self.preds_key = preds_key\n",
    "\n",
    "    def on_batch_end(self, i: int, state: DotDict) -> None:\n",
    "        target = state.batch[self.target_key]\n",
    "        preds = state.out[self.preds_key]\n",
    "        state.loss = state.criterion(preds, target)"
   ]
  },
  {
   "cell_type": "markdown",
   "metadata": {},
   "source": [
    "## Train"
   ]
  },
  {
   "cell_type": "code",
   "execution_count": 62,
   "metadata": {
    "ExecuteTime": {
     "end_time": "2019-10-28T18:07:06.781708Z",
     "start_time": "2019-10-28T18:07:06.765701Z"
    }
   },
   "outputs": [],
   "source": [
    "learner = Trainer(model=model,\n",
    "                  dataowner=dataowner,\n",
    "                  criterion=criterion, \n",
    "                  step_fn=step_fn,\n",
    "                  opt=optim.Adam,\n",
    "                  target_key='targets',\n",
    "                  preds_key='preds',\n",
    "                  opt_params={'lr' : 0.001,\n",
    "                              'betas' : (0.9, 0.999)},\n",
    "                  device='cuda')"
   ]
  },
  {
   "cell_type": "code",
   "execution_count": 63,
   "metadata": {
    "ExecuteTime": {
     "end_time": "2019-10-28T18:07:10.748524Z",
     "start_time": "2019-10-28T18:07:07.481133Z"
    }
   },
   "outputs": [
    {
     "name": "stdout",
     "output_type": "stream",
     "text": [
      "TRAIN | Epoch 1/1:  19% 177/937 [00:02<00:12, 60.12it/s, loss=14.2834]\n"
     ]
    },
    {
     "data": {
      "image/png": "[encoded data removed]",
      "text/plain": [
       "<Figure size 1440x360 with 2 Axes>"
      ]
     },
     "metadata": {
      "needs_background": "light"
     },
     "output_type": "display_data"
    }
   ],
   "source": [
    "# set_trace()\n",
    "learner.find_lr(final_lr=1,\n",
    "                n_steps=200)"
   ]
  },
  {
   "cell_type": "code",
   "execution_count": 64,
   "metadata": {
    "ExecuteTime": {
     "end_time": "2019-10-28T18:08:12.155833Z",
     "start_time": "2019-10-28T18:07:14.340001Z"
    }
   },
   "outputs": [
    {
     "name": "stdout",
     "output_type": "stream",
     "text": [
      "TRAIN | Epoch 1/3: 100% 937/937 [00:17<00:00, 54.89it/s, loss=0.3963]\n",
      "VALID | Epoch 1/3: 100% 156/156 [00:02<00:00, 74.21it/s, loss=0.4163, val_loss=0.4090]\n",
      "TRAIN | Epoch 2/3: 100% 937/937 [00:17<00:00, 54.59it/s, loss=0.2434]\n",
      "VALID | Epoch 2/3: 100% 156/156 [00:02<00:00, 72.88it/s, loss=0.2990, val_loss=0.2835]\n",
      "TRAIN | Epoch 3/3: 100% 937/937 [00:17<00:00, 54.53it/s, loss=0.2201]\n",
      "VALID | Epoch 3/3: 100% 156/156 [00:02<00:00, 73.22it/s, loss=0.2620, val_loss=0.2457]\n",
      "\n",
      "Checkpoint\tval_loss\n",
      "saved/checkpoint/fashsion_mnist/checkpoint.epoch_3.h5\t0.245701\n",
      "saved/checkpoint/fashsion_mnist/checkpoint.epoch_2.h5\t0.283504\n",
      "saved/checkpoint/fashsion_mnist/checkpoint.epoch_1.h5\t0.409046\n"
     ]
    }
   ],
   "source": [
    "learner.fit_one_cycle(max_lr=1e-3,\n",
    "                      cycle_len=3,\n",
    "                      logdir='saved/logdir/fashsion_mnist',\n",
    "                      cp_saver_params= {'savedir' : 'saved/checkpoint/fashsion_mnist'},\n",
    "                      use_fp16=True)"
   ]
  },
  {
   "cell_type": "code",
   "execution_count": null,
   "metadata": {},
   "outputs": [],
   "source": []
  }
 ],
 "metadata": {
  "kernelspec": {
   "display_name": "Python 3",
   "language": "python",
   "name": "python3"
  },
  "language_info": {
   "codemirror_mode": {
    "name": "ipython",
    "version": 3
   },
   "file_extension": ".py",
   "mimetype": "text/x-python",
   "name": "python",
   "nbconvert_exporter": "python",
   "pygments_lexer": "ipython3",
   "version": "3.7.1"
  },
  "toc": {
   "base_numbering": 1,
   "nav_menu": {},
   "number_sections": true,
   "sideBar": true,
   "skip_h1_title": false,
   "title_cell": "Table of Contents",
   "title_sidebar": "Contents",
   "toc_cell": false,
   "toc_position": {},
   "toc_section_display": true,
   "toc_window_display": false
  }
 },
 "nbformat": 4,
 "nbformat_minor": 2
}
